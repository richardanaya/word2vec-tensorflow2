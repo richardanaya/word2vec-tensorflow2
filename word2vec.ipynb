{
 "cells": [
  {
   "cell_type": "code",
   "execution_count": 76,
   "metadata": {},
   "outputs": [],
   "source": [
    "# This is the data i'm working with, word2vec essentially\n",
    "# looks at the meaningful words that are next to each other\n",
    "# and tries to put them closer togetoher in a many dimensional\n",
    "# space\n",
    "sentences = [\n",
    "    \"king is a strong man\", \n",
    "    \"queen is a wise woman\", \n",
    "    \"boy is a young man\", \n",
    "    \"girl is a young woman\", \n",
    "    \"prince is a young king\", \n",
    "    \"princess is a young queen\", \n",
    "    \"man is strong\", \n",
    "    \"woman is wise\", \n",
    "    \"prince is a boy who will be king\", \n",
    "    \"princess is a girl who will be queen\"\n",
    "]"
   ]
  },
  {
   "cell_type": "code",
   "execution_count": 77,
   "metadata": {},
   "outputs": [],
   "source": [
    "# various libraries i'm using, mostly just tensorflow and a plotting library\n",
    "import tensorflow as tf\n",
    "from tensorflow import keras\n",
    "from tensorflow.keras import layers\n",
    "import matplotlib.pyplot as plt\n",
    "import random"
   ]
  },
  {
   "cell_type": "code",
   "execution_count": 78,
   "metadata": {},
   "outputs": [
    {
     "name": "stdout",
     "output_type": "stream",
     "text": [
      "All Words:\n",
      " {'king', 'man', 'queen', 'young', 'princess', 'wise', 'woman', 'boy', 'strong', 'girl', 'prince'}\n",
      "Words we are trying to associate:\n",
      " [['king', 'prince'], ['woman', 'wise'], ['boy', 'king'], ['strong', 'man'], ['queen', 'girl'], ['king', 'boy'], ['man', 'young'], ['girl', 'woman'], ['prince', 'boy'], ['queen', 'young'], ['young', 'woman'], ['strong', 'king'], ['strong', 'man'], ['princess', 'girl'], ['woman', 'wise'], ['woman', 'young'], ['prince', 'king'], ['princess', 'queen'], ['woman', 'queen'], ['wise', 'woman'], ['girl', 'queen'], ['man', 'strong'], ['boy', 'prince'], ['man', 'strong'], ['young', 'queen'], ['woman', 'girl'], ['boy', 'young'], ['queen', 'princess'], ['young', 'man'], ['king', 'strong'], ['young', 'king'], ['wise', 'woman'], ['young', 'boy'], ['king', 'young'], ['girl', 'princess'], ['queen', 'woman']]\n"
     ]
    }
   ],
   "source": [
    "# This function looks at a string and returns a list of meaningful words and not junk words\n",
    "# I don't care to get in the way of the comparison of nearby neighbors\n",
    "def getUsefulWords(sentence):\n",
    "    allWords = sentence.split()\n",
    "    allDistinctWords = set(allWords)\n",
    "    uselessWords = {\"the\",\"is\",\"be\",\"will\",\"a\",\"becomes\",\"who\"}\n",
    "    allDistinctUsefulWords = list(filter(lambda a: a not in uselessWords, allDistinctWords))\n",
    "    return allDistinctUsefulWords\n",
    "\n",
    "# take in a sequence of words and generate a list of all the words that appear side by side\n",
    "# i.e. [\"a\",\"b\",\"c\"] -> [[\"a\",\"b\"],[\"b\",\"c\"],[\"b\",\"c\"],[\"c\",\"b\"]]\n",
    "def getNeighbors(wordSequence):\n",
    "    neighbors = []\n",
    "    # if we only have one word we have no neighbors\n",
    "    if len(wordSequence) == 1:\n",
    "        return neighbors\n",
    "    for i,_ in enumerate(wordSequence):\n",
    "        if i != 0:\n",
    "            neighbors.append([wordSequence[i],wordSequence[i-1]])\n",
    "        if i != len(wordSequence)-1:\n",
    "            neighbors.append([wordSequence[i],wordSequence[i+1]])\n",
    "    return neighbors\n",
    "\n",
    "# get the list of all unique words from all sentences\n",
    "allSentenceWordLists = list(map(lambda s: getUsefulWords(s) , sentences))\n",
    "allUniqueWords = set([item for sublist in allSentenceWordLists for item in sublist])\n",
    "vocab_size = len(allUniqueWords)\n",
    "\n",
    "print(\"All Words:\\n\",allUniqueWords)\n",
    "\n",
    "# hot encodings work by giving a unique unit vector to a single item of a set of items\n",
    "# for instance, if I had a list of 5 items, i'd be creating 5-dimensional vectors\n",
    "# and the vector of the first item would be [1,0,0,0,0]\n",
    "# we'll use this to help create the input data of our neural network\n",
    "def makeHotEncoding(index):\n",
    "    arr = [0]*len(allUniqueWords)\n",
    "    arr[index] = 1\n",
    "    return arr\n",
    "\n",
    "# get the hot encodings for all words\n",
    "hotEncodings = {element: makeHotEncoding(i) for i,element in enumerate(allUniqueWords)} \n",
    "\n",
    "# get all our neighbors from all sentences\n",
    "allSentenceNeighborLists = list(map(lambda s: getNeighbors(getUsefulWords(s)) , sentences))\n",
    "allNeighbors = [item for sublist in allSentenceNeighborLists for item in sublist]\n",
    "# create some randomness in the order of neighbors to vary input order\n",
    "random.shuffle(allNeighbors)\n",
    "\n",
    "print(\"Words we are trying to associate:\\n\",allNeighbors)\n",
    "\n",
    "inputs = tf.convert_to_tensor(list(map(lambda s: hotEncodings[s[0]], allNeighbors)),dtype=tf.float32)\n",
    "outputs = tf.convert_to_tensor(list(map(lambda s:hotEncodings[s[1]], allNeighbors)),dtype=tf.float32)"
   ]
  },
  {
   "cell_type": "code",
   "execution_count": 79,
   "metadata": {},
   "outputs": [
    {
     "name": "stdout",
     "output_type": "stream",
     "text": [
      "Model: \"sequential_12\"\n",
      "_________________________________________________________________\n",
      "Layer (type)                 Output Shape              Param #   \n",
      "=================================================================\n",
      "dense_24 (Dense)             (None, 2)                 24        \n",
      "_________________________________________________________________\n",
      "dense_25 (Dense)             (None, 11)                33        \n",
      "=================================================================\n",
      "Total params: 57\n",
      "Trainable params: 57\n",
      "Non-trainable params: 0\n",
      "_________________________________________________________________\n"
     ]
    }
   ],
   "source": [
    "# We are trying to reduce the dimensions of our words down to 2D so we can easily visualize\n",
    "encoding_dimension_size = 2\n",
    "\n",
    "# Build the nueral network\n",
    "model = keras.Sequential([\n",
    "  # reduce the dimensions of our input word representations down to 2D\n",
    "  layers.Dense(encoding_dimension_size, activation='relu', input_shape=(vocab_size,)),\n",
    "  # Output back to our word dimension size so we can verify against the word we are trying\n",
    "  # to train a relationship to\n",
    "  layers.Dense(vocab_size, activation='softmax')\n",
    "])\n",
    "\n",
    "# Adam tries to reduce the error between our model's function and the real output\n",
    "# using a bit of physical inertia so we don't hit local minima\n",
    "model.compile(optimizer='adam', loss='binary_crossentropy', metrics=['accuracy'])\n",
    "\n",
    "# Let's see what tensorflow thinks is about to happen\n",
    "model.summary()"
   ]
  },
  {
   "cell_type": "code",
   "execution_count": null,
   "metadata": {},
   "outputs": [],
   "source": [
    "# Run the nueral network\n",
    "history = model.fit(\n",
    "    inputs,\n",
    "    outputs,\n",
    "    epochs=1000,\n",
    "    batch_size=512,\n",
    "    validation_split=0.01)"
   ]
  },
  {
   "cell_type": "code",
   "execution_count": 81,
   "metadata": {},
   "outputs": [
    {
     "name": "stdout",
     "output_type": "stream",
     "text": [
      "[{'y': -0.8014396, 'name': 'king', 'x': 0.77166194}, {'y': -0.8723425, 'name': 'man', 'x': 1.0134928}, {'y': -0.8721942, 'name': 'queen', 'x': -0.5255586}, {'y': 0.5433546, 'name': 'young', 'x': -0.4609485}, {'y': -0.5392414, 'name': 'princess', 'x': -0.70445645}, {'y': 1.2947183, 'name': 'wise', 'x': 0.7240703}, {'y': -0.87188804, 'name': 'woman', 'x': -0.70401496}, {'y': 0.20645225, 'name': 'boy', 'x': 1.3195058}, {'y': 1.5303205, 'name': 'strong', 'x': -0.70410156}, {'y': 0.5102995, 'name': 'girl', 'x': -0.42409754}, {'y': 0.6063022, 'name': 'prince', 'x': 0.6188046}]\n"
     ]
    }
   ],
   "source": [
    "# Let's get the weights of the 2nd layer of neurons\n",
    "# to get our 2 dimensions representations of words\n",
    "e = model.layers[0]\n",
    "weights = e.get_weights()[0]\n",
    "# make this easy to look through\n",
    "lookup = list(map(lambda s: {'name':s[0],'x':s[1][0],'y':s[1][1]}, zip(allUniqueWords,weights)))\n",
    "print(lookup)"
   ]
  },
  {
   "cell_type": "code",
   "execution_count": 82,
   "metadata": {},
   "outputs": [
    {
     "data": {
      "text/plain": [
       "<matplotlib.collections.PathCollection at 0x7f4f54edcba8>"
      ]
     },
     "execution_count": 82,
     "metadata": {},
     "output_type": "execute_result"
    },
    {
     "data": {
      "image/png": "[encoded data removed]",
      "text/plain": [
       "<Figure size 720x720 with 1 Axes>"
      ]
     },
     "metadata": {
      "needs_background": "light"
     },
     "output_type": "display_data"
    }
   ],
   "source": [
    "# Draw these words in 2d chart\n",
    "fig, ax = plt.subplots()\n",
    "x_min = 0\n",
    "y_min = 0\n",
    "x_max = 0\n",
    "y_max = 0\n",
    "x_data = []\n",
    "y_data = []\n",
    "for e in lookup:\n",
    "    x_min = min(x_min,e['x'])\n",
    "    y_min = min(y_min,e['y'])\n",
    "    x_max = max(x_max,e['x'])\n",
    "    y_max = max(y_max,e['y'])\n",
    "    \n",
    "# let's shift things into positive quadrant to easily see origin\n",
    "x_min = min(x_min,0)\n",
    "y_min = min(y_min,0)\n",
    "for e in lookup:\n",
    "    x_data.append(e['x']-x_min)\n",
    "    y_data.append(e['y']-y_min)\n",
    "    # put labels wwhere appropriate\n",
    "    ax.annotate(e['name'],(e['x']-x_min,e['y']-y_min))\n",
    "x_pad = abs(x_max-x_min)*.1\n",
    "y_pad = abs(y_max-y_min)*.1\n",
    "    \n",
    "# define how we want things to look\n",
    "plt.xlim(0,x_max-x_min+x_pad)\n",
    "plt.ylim(0,y_max-y_min+y_pad)\n",
    "plt.rcParams[\"figure.figsize\"] = (10,10)\n",
    "\n",
    "# Make sure we draw the points too!\n",
    "plt.scatter(x_data,y_data)"
   ]
  },
  {
   "cell_type": "code",
   "execution_count": null,
   "metadata": {},
   "outputs": [],
   "source": []
  }
 ],
 "metadata": {
  "kernelspec": {
   "display_name": "Python 3",
   "language": "python",
   "name": "python3"
  },
  "language_info": {
   "codemirror_mode": {
    "name": "ipython",
    "version": 3
   },
   "file_extension": ".py",
   "mimetype": "text/x-python",
   "name": "python",
   "nbconvert_exporter": "python",
   "pygments_lexer": "ipython3",
   "version": "3.5.3"
  }
 },
 "nbformat": 4,
 "nbformat_minor": 2
}
