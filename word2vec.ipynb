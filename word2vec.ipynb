{
 "cells": [
  {
   "cell_type": "code",
   "execution_count": null,
   "metadata": {},
   "outputs": [],
   "source": [
    "sentences = [\n",
    "    \"king is a strong man\", \n",
    "    \"queen is a wise woman\", \n",
    "    \"boy is a young man\", \n",
    "    \"girl is a young woman\", \n",
    "    \"prince is a young king\", \n",
    "    \"princess is a young queen\", \n",
    "    \"man is strong\", \n",
    "    \"woman is pretty\", \n",
    "    \"prince is a boy will be king\", \n",
    "    \"princess is a girl will be queen\"\n",
    "]"
   ]
  },
  {
   "cell_type": "code",
   "execution_count": null,
   "metadata": {},
   "outputs": [],
   "source": [
    "def getUsefulWords(sentence):\n",
    "    allWords = sentence.split()\n",
    "    allDistinctWords = set(allWords)\n",
    "    uselessWords = {\"the\",\"is\",\"be\",\"will\",\"a\"}\n",
    "    allDistinctUsefulWords = list(filter(lambda a: a not in uselessWords, allDistinctWords))\n",
    "    return allDistinctUsefulWords"
   ]
  },
  {
   "cell_type": "code",
   "execution_count": null,
   "metadata": {},
   "outputs": [],
   "source": [
    "allSentenceWordLists = list(map(lambda s: getUsefulWords(s) , sentences))\n",
    "allUniqueWords = set([item for sublist in allSentenceWordLists for item in sublist])\n",
    "def makeHotEncoding(i):\n",
    "    arr = [0]*len(allUniqueWords)\n",
    "    arr[i] = 1\n",
    "    return arr\n",
    "hotEncodings = {element: makeHotEncoding(i) for i,element in enumerate(allUniqueWords)} \n",
    "print(hotEncodings)"
   ]
  },
  {
   "cell_type": "code",
   "execution_count": null,
   "metadata": {},
   "outputs": [],
   "source": [
    "def getNeighbors(items):\n",
    "    neighbors = []\n",
    "    if len(items) == 1:\n",
    "        return neighbors\n",
    "    for i,item in enumerate(items):\n",
    "        if i != 0:\n",
    "            neighbors.append([items[i],items[i-1]])\n",
    "        if i != len(items)-1:\n",
    "            neighbors.append([items[i],items[i+1]])\n",
    "    return neighbors"
   ]
  },
  {
   "cell_type": "code",
   "execution_count": null,
   "metadata": {},
   "outputs": [],
   "source": [
    "import tensorflow as tf\n",
    "allSentenceNeighborLists = list(map(lambda s: getNeighbors(getUsefulWords(s)) , sentences))\n",
    "allNeighbors = [item for sublist in allSentenceNeighborLists for item in sublist]\n",
    "print(allNeighbors)\n",
    "inputs = tf.convert_to_tensor(list(map(lambda s: hotEncodings[s[0]], allNeighbors)),dtype=tf.float32)\n",
    "outputs = tf.convert_to_tensor(list(map(lambda s:hotEncodings[s[1]], allNeighbors)),dtype=tf.float32)"
   ]
  },
  {
   "cell_type": "code",
   "execution_count": null,
   "metadata": {},
   "outputs": [],
   "source": [
    "from tensorflow import keras\n",
    "from tensorflow.keras import layers\n",
    "\n",
    "vocab_size = len(allUniqueWords)\n",
    "embedding_dim=2\n",
    "\n",
    "maxlen = 500\n",
    "model = keras.Sequential([\n",
    "  layers.Embedding(vocab_size, embedding_dim),\n",
    "  layers.GlobalAveragePooling1D(),\n",
    "  layers.Dense(16, activation='relu'),\n",
    "  layers.Dense(1, activation='sigmoid')\n",
    "])\n",
    "\n",
    "model.summary()"
   ]
  },
  {
   "cell_type": "code",
   "execution_count": null,
   "metadata": {},
   "outputs": [],
   "source": [
    "model.compile(optimizer='adam',\n",
    "              loss='binary_crossentropy',\n",
    "              metrics=['accuracy'])\n",
    "history = model.fit(\n",
    "    inputs,\n",
    "    outputs,\n",
    "    epochs=1000,\n",
    "    batch_size=512,\n",
    "    validation_split=0.4)"
   ]
  },
  {
   "cell_type": "code",
   "execution_count": 24,
   "metadata": {},
   "outputs": [],
   "source": [
    "e = model.layers[0]\n",
    "weights = e.get_weights()[0]\n",
    "lookup = list(map(lambda s: {'name':s[0],'x':s[1][0],'y':s[1][1]}, zip(allUniqueWords,weights)))"
   ]
  },
  {
   "cell_type": "code",
   "execution_count": 25,
   "metadata": {},
   "outputs": [
    {
     "data": {
      "text/plain": [
       "<matplotlib.collections.PathCollection at 0x7fc89f9e2c88>"
      ]
     },
     "execution_count": 25,
     "metadata": {},
     "output_type": "execute_result"
    },
    {
     "data": {
      "image/png": "[encoded data removed]",
      "text/plain": [
       "<Figure size 720x720 with 1 Axes>"
      ]
     },
     "metadata": {
      "needs_background": "light"
     },
     "output_type": "display_data"
    }
   ],
   "source": [
    "import matplotlib.pyplot as plt\n",
    "\n",
    "fig, ax = plt.subplots()\n",
    "x_min = 0\n",
    "y_min = 0\n",
    "x_max = 0\n",
    "y_max = 0\n",
    "x_data = []\n",
    "y_data = []\n",
    "for e in lookup:\n",
    "    x_data.append(e['x'])\n",
    "    y_data.append(e['y'])\n",
    "    x_min = min(x_min,e['x'])\n",
    "    y_min = min(y_min,e['y'])\n",
    "    x_max = max(x_max,e['x'])\n",
    "    y_max = max(y_max,e['y'])\n",
    "    ax.annotate(e['name'],(e['x'],e['y']))\n",
    "x_pad = abs(x_max-x_min)*.1\n",
    "y_pad = abs(y_max-y_min)*.1\n",
    "    \n",
    "plt.xlim(x_min-x_pad,x_max+x_pad)\n",
    "plt.ylim(y_min-y_pad,y_max+y_pad)\n",
    "plt.rcParams[\"figure.figsize\"] = (10,10)\n",
    "plt.scatter(x_data,y_data)"
   ]
  },
  {
   "cell_type": "code",
   "execution_count": null,
   "metadata": {},
   "outputs": [],
   "source": []
  }
 ],
 "metadata": {
  "kernelspec": {
   "display_name": "Python 3",
   "language": "python",
   "name": "python3"
  },
  "language_info": {
   "codemirror_mode": {
    "name": "ipython",
    "version": 3
   },
   "file_extension": ".py",
   "mimetype": "text/x-python",
   "name": "python",
   "nbconvert_exporter": "python",
   "pygments_lexer": "ipython3",
   "version": "3.5.3"
  }
 },
 "nbformat": 4,
 "nbformat_minor": 2
}
