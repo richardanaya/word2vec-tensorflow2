{
 "cells": [
  {
   "cell_type": "code",
   "execution_count": 7,
   "metadata": {},
   "outputs": [],
   "source": [
    "sentences = [\n",
    "    \"king is a strong man\", \n",
    "    \"queen is a wise woman\", \n",
    "    \"boy is a young man\", \n",
    "    \"girl is a young woman\", \n",
    "    \"prince is a young king\", \n",
    "    \"princess is a young queen\", \n",
    "    \"man is strong\", \n",
    "    \"woman is pretty\", \n",
    "    \"prince is a boy will be king\", \n",
    "    \"princess is a girl will be queen\"\n",
    "]"
   ]
  },
  {
   "cell_type": "code",
   "execution_count": 8,
   "metadata": {},
   "outputs": [
    {
     "name": "stdout",
     "output_type": "stream",
     "text": [
      "GPU Available:  True\n"
     ]
    }
   ],
   "source": [
    "import tensorflow as tf\n",
    "print(\"GPU Available: \", tf.test.is_gpu_available())\n",
    "tf.debugging.set_log_device_placement(True)"
   ]
  },
  {
   "cell_type": "code",
   "execution_count": 9,
   "metadata": {},
   "outputs": [],
   "source": [
    "def getUsefulWords(sentence):\n",
    "    allWords = sentence.split()\n",
    "    allDistinctWords = set(allWords)\n",
    "    uselessWords = {\"the\",\"is\",\"be\",\"will\",\"a\"}\n",
    "    allDistinctUsefulWords = list(filter(lambda a: a not in uselessWords, allDistinctWords))\n",
    "    return allDistinctUsefulWords"
   ]
  },
  {
   "cell_type": "code",
   "execution_count": 10,
   "metadata": {},
   "outputs": [
    {
     "name": "stdout",
     "output_type": "stream",
     "text": [
      "{'wise': [1, 0, 0, 0, 0, 0, 0, 0, 0, 0, 0, 0], 'prince': [0, 0, 0, 1, 0, 0, 0, 0, 0, 0, 0, 0], 'king': [0, 1, 0, 0, 0, 0, 0, 0, 0, 0, 0, 0], 'boy': [0, 0, 1, 0, 0, 0, 0, 0, 0, 0, 0, 0], 'pretty': [0, 0, 0, 0, 1, 0, 0, 0, 0, 0, 0, 0], 'girl': [0, 0, 0, 0, 0, 1, 0, 0, 0, 0, 0, 0], 'young': [0, 0, 0, 0, 0, 0, 1, 0, 0, 0, 0, 0], 'strong': [0, 0, 0, 0, 0, 0, 0, 1, 0, 0, 0, 0], 'man': [0, 0, 0, 0, 0, 0, 0, 0, 1, 0, 0, 0], 'queen': [0, 0, 0, 0, 0, 0, 0, 0, 0, 1, 0, 0], 'woman': [0, 0, 0, 0, 0, 0, 0, 0, 0, 0, 1, 0], 'princess': [0, 0, 0, 0, 0, 0, 0, 0, 0, 0, 0, 1]}\n"
     ]
    }
   ],
   "source": [
    "allSentenceWordLists = list(map(lambda s: getUsefulWords(s) , sentences))\n",
    "allUniqueWords = set([item for sublist in allSentenceWordLists for item in sublist])\n",
    "def makeHotEncoding(i):\n",
    "    arr = [0]*len(allUniqueWords)\n",
    "    arr[i] = 1\n",
    "    return arr\n",
    "hotEncodings = {element: makeHotEncoding(i) for i,element in enumerate(allUniqueWords)} \n",
    "print(hotEncodings)"
   ]
  },
  {
   "cell_type": "code",
   "execution_count": 11,
   "metadata": {},
   "outputs": [],
   "source": [
    "def getNeighbors(items):\n",
    "    neighbors = []\n",
    "    if len(items) == 1:\n",
    "        return neighbors\n",
    "    for i,item in enumerate(items):\n",
    "        if i != 0:\n",
    "            neighbors.append([items[i],items[i-1]])\n",
    "        if i != len(items)-1:\n",
    "            neighbors.append([items[i],items[i+1]])\n",
    "    return neighbors"
   ]
  },
  {
   "cell_type": "code",
   "execution_count": 17,
   "metadata": {},
   "outputs": [],
   "source": [
    "import tensorflow as tf\n",
    "allSentenceNeighborLists = list(map(lambda s: getNeighbors(getUsefulWords(s)) , sentences))\n",
    "allNeighbors = [item for sublist in allSentenceNeighborLists for item in sublist]\n",
    "inputs = tf.convert_to_tensor(list(map(lambda s: hotEncodings[s[0]], allNeighbors)),dtype=tf.float32)\n",
    "outputs = tf.convert_to_tensor(list(map(lambda s:hotEncodings[s[1]], allNeighbors)),dtype=tf.float32)"
   ]
  },
  {
   "cell_type": "code",
   "execution_count": 19,
   "metadata": {},
   "outputs": [
    {
     "name": "stdout",
     "output_type": "stream",
     "text": [
      "Model: \"sequential_2\"\n",
      "_________________________________________________________________\n",
      "Layer (type)                 Output Shape              Param #   \n",
      "=================================================================\n",
      "embedding_2 (Embedding)      (None, None, 2)           24        \n",
      "_________________________________________________________________\n",
      "global_average_pooling1d_2 ( (None, 2)                 0         \n",
      "_________________________________________________________________\n",
      "dense_4 (Dense)              (None, 16)                48        \n",
      "_________________________________________________________________\n",
      "dense_5 (Dense)              (None, 1)                 17        \n",
      "=================================================================\n",
      "Total params: 89\n",
      "Trainable params: 89\n",
      "Non-trainable params: 0\n",
      "_________________________________________________________________\n"
     ]
    }
   ],
   "source": [
    "from tensorflow import keras\n",
    "from tensorflow.keras import layers\n",
    "\n",
    "vocab_size = len(allUniqueWords)\n",
    "embedding_dim=2\n",
    "\n",
    "maxlen = 500\n",
    "model = keras.Sequential([\n",
    "  layers.Embedding(vocab_size, embedding_dim),\n",
    "  layers.GlobalAveragePooling1D(),\n",
    "  layers.Dense(16, activation='relu'),\n",
    "  layers.Dense(1, activation='sigmoid')\n",
    "])\n",
    "\n",
    "model.summary()"
   ]
  },
  {
   "cell_type": "code",
   "execution_count": 14,
   "metadata": {},
   "outputs": [
    {
     "name": "stdout",
     "output_type": "stream",
     "text": [
      "Executing op VarHandleOp in device /job:localhost/replica:0/task:0/device:GPU:0\n",
      "Executing op StridedSlice in device /job:localhost/replica:0/task:0/device:GPU:0\n",
      "Executing op StridedSlice in device /job:localhost/replica:0/task:0/device:GPU:0\n"
     ]
    },
    {
     "name": "stderr",
     "output_type": "stream",
     "text": [
      "WARNING: Logging before flag parsing goes to stderr.\n",
      "W0714 02:03:03.817339 140493340333824 deprecation.py:323] From /usr/local/lib/python3.5/dist-packages/tensorflow/python/ops/math_grad.py:1250: add_dispatch_support.<locals>.wrapper (from tensorflow.python.ops.array_ops) is deprecated and will be removed in a future version.\n",
      "Instructions for updating:\n",
      "Use tf.where in 2.0, which has the same broadcast rule as np.where\n"
     ]
    },
    {
     "name": "stdout",
     "output_type": "stream",
     "text": [
      "Executing op VarHandleOp in device /job:localhost/replica:0/task:0/device:GPU:0\n",
      "Executing op AssignVariableOp in device /job:localhost/replica:0/task:0/device:GPU:0\n",
      "Executing op Fill in device /job:localhost/replica:0/task:0/device:CPU:0\n",
      "Executing op Fill in device /job:localhost/replica:0/task:0/device:GPU:0\n",
      "Executing op VarHandleOp in device /job:localhost/replica:0/task:0/device:GPU:0\n",
      "Executing op LogicalNot in device /job:localhost/replica:0/task:0/device:GPU:0\n",
      "Executing op Assert in device /job:localhost/replica:0/task:0/device:GPU:0\n",
      "Executing op VarHandleOp in device /job:localhost/replica:0/task:0/device:GPU:0\n",
      "Executing op VarHandleOp in device /job:localhost/replica:0/task:0/device:GPU:0\n",
      "Executing op Reshape in device /job:localhost/replica:0/task:0/device:GPU:0\n",
      "Executing op VarHandleOp in device /job:localhost/replica:0/task:0/device:GPU:0\n",
      "Train on 21 samples, validate on 15 samples\n",
      "Epoch 1/100\n",
      "Executing op __inference_keras_scratch_graph_976 in device <unspecified>\n",
      "Executing op __inference_keras_scratch_graph_1071 in device <unspecified>\n",
      "21/21 [==============================] - 1s 60ms/sample - loss: 0.6920 - accuracy: 0.9167 - val_loss: 0.6909 - val_accuracy: 0.9167\n",
      "Epoch 2/100\n",
      "21/21 [==============================] - 0s 938us/sample - loss: 0.6909 - accuracy: 0.9167 - val_loss: 0.6899 - val_accuracy: 0.9167\n",
      "Epoch 3/100\n",
      "21/21 [==============================] - 0s 574us/sample - loss: 0.6899 - accuracy: 0.9167 - val_loss: 0.6888 - val_accuracy: 0.9167\n",
      "Epoch 4/100\n",
      "21/21 [==============================] - 0s 409us/sample - loss: 0.6888 - accuracy: 0.9167 - val_loss: 0.6878 - val_accuracy: 0.9167\n",
      "Epoch 5/100\n",
      "21/21 [==============================] - 0s 422us/sample - loss: 0.6878 - accuracy: 0.9167 - val_loss: 0.6867 - val_accuracy: 0.9167\n",
      "Epoch 6/100\n",
      "21/21 [==============================] - 0s 418us/sample - loss: 0.6867 - accuracy: 0.9167 - val_loss: 0.6856 - val_accuracy: 0.9167\n",
      "Epoch 7/100\n",
      "21/21 [==============================] - 0s 419us/sample - loss: 0.6856 - accuracy: 0.9167 - val_loss: 0.6843 - val_accuracy: 0.9167\n",
      "Epoch 8/100\n",
      "21/21 [==============================] - 0s 407us/sample - loss: 0.6843 - accuracy: 0.9167 - val_loss: 0.6829 - val_accuracy: 0.9167\n",
      "Epoch 9/100\n",
      "21/21 [==============================] - 0s 507us/sample - loss: 0.6829 - accuracy: 0.9167 - val_loss: 0.6816 - val_accuracy: 0.9167\n",
      "Epoch 10/100\n",
      "21/21 [==============================] - 0s 406us/sample - loss: 0.6816 - accuracy: 0.9167 - val_loss: 0.6803 - val_accuracy: 0.9167\n",
      "Epoch 11/100\n",
      "21/21 [==============================] - 0s 431us/sample - loss: 0.6803 - accuracy: 0.9167 - val_loss: 0.6790 - val_accuracy: 0.9167\n",
      "Epoch 12/100\n",
      "21/21 [==============================] - 0s 431us/sample - loss: 0.6790 - accuracy: 0.9167 - val_loss: 0.6777 - val_accuracy: 0.9167\n",
      "Epoch 13/100\n",
      "21/21 [==============================] - 0s 414us/sample - loss: 0.6777 - accuracy: 0.9167 - val_loss: 0.6764 - val_accuracy: 0.9167\n",
      "Epoch 14/100\n",
      "21/21 [==============================] - 0s 408us/sample - loss: 0.6764 - accuracy: 0.9167 - val_loss: 0.6751 - val_accuracy: 0.9167\n",
      "Epoch 15/100\n",
      "21/21 [==============================] - 0s 412us/sample - loss: 0.6751 - accuracy: 0.9167 - val_loss: 0.6738 - val_accuracy: 0.9167\n",
      "Epoch 16/100\n",
      "21/21 [==============================] - 0s 425us/sample - loss: 0.6738 - accuracy: 0.9167 - val_loss: 0.6725 - val_accuracy: 0.9167\n",
      "Epoch 17/100\n",
      "21/21 [==============================] - 0s 405us/sample - loss: 0.6725 - accuracy: 0.9167 - val_loss: 0.6712 - val_accuracy: 0.9167\n",
      "Epoch 18/100\n",
      "21/21 [==============================] - 0s 422us/sample - loss: 0.6712 - accuracy: 0.9167 - val_loss: 0.6699 - val_accuracy: 0.9167\n",
      "Epoch 19/100\n",
      "21/21 [==============================] - 0s 424us/sample - loss: 0.6699 - accuracy: 0.9167 - val_loss: 0.6685 - val_accuracy: 0.9167\n",
      "Epoch 20/100\n",
      "21/21 [==============================] - 0s 413us/sample - loss: 0.6685 - accuracy: 0.9167 - val_loss: 0.6672 - val_accuracy: 0.9167\n",
      "Epoch 21/100\n",
      "21/21 [==============================] - 0s 412us/sample - loss: 0.6672 - accuracy: 0.9167 - val_loss: 0.6659 - val_accuracy: 0.9167\n",
      "Epoch 22/100\n",
      "21/21 [==============================] - 0s 421us/sample - loss: 0.6659 - accuracy: 0.9167 - val_loss: 0.6645 - val_accuracy: 0.9167\n",
      "Epoch 23/100\n",
      "21/21 [==============================] - 0s 409us/sample - loss: 0.6645 - accuracy: 0.9167 - val_loss: 0.6631 - val_accuracy: 0.9167\n",
      "Epoch 24/100\n",
      "21/21 [==============================] - 0s 415us/sample - loss: 0.6631 - accuracy: 0.9167 - val_loss: 0.6618 - val_accuracy: 0.9167\n",
      "Epoch 25/100\n",
      "21/21 [==============================] - 0s 422us/sample - loss: 0.6618 - accuracy: 0.9167 - val_loss: 0.6604 - val_accuracy: 0.9167\n",
      "Epoch 26/100\n",
      "21/21 [==============================] - 0s 408us/sample - loss: 0.6604 - accuracy: 0.9167 - val_loss: 0.6590 - val_accuracy: 0.9167\n",
      "Epoch 27/100\n",
      "21/21 [==============================] - 0s 409us/sample - loss: 0.6590 - accuracy: 0.9167 - val_loss: 0.6576 - val_accuracy: 0.9167\n",
      "Epoch 28/100\n",
      "21/21 [==============================] - 0s 422us/sample - loss: 0.6576 - accuracy: 0.9167 - val_loss: 0.6562 - val_accuracy: 0.9167\n",
      "Epoch 29/100\n",
      "21/21 [==============================] - 0s 411us/sample - loss: 0.6562 - accuracy: 0.9167 - val_loss: 0.6548 - val_accuracy: 0.9167\n",
      "Epoch 30/100\n",
      "21/21 [==============================] - 0s 508us/sample - loss: 0.6548 - accuracy: 0.9167 - val_loss: 0.6534 - val_accuracy: 0.9167\n",
      "Epoch 31/100\n",
      "21/21 [==============================] - 0s 408us/sample - loss: 0.6534 - accuracy: 0.9167 - val_loss: 0.6520 - val_accuracy: 0.9167\n",
      "Epoch 32/100\n",
      "21/21 [==============================] - 0s 612us/sample - loss: 0.6520 - accuracy: 0.9167 - val_loss: 0.6506 - val_accuracy: 0.9167\n",
      "Epoch 33/100\n",
      "21/21 [==============================] - 0s 415us/sample - loss: 0.6506 - accuracy: 0.9167 - val_loss: 0.6491 - val_accuracy: 0.9167\n",
      "Epoch 34/100\n",
      "21/21 [==============================] - 0s 518us/sample - loss: 0.6491 - accuracy: 0.9167 - val_loss: 0.6477 - val_accuracy: 0.9167\n",
      "Epoch 35/100\n",
      "21/21 [==============================] - 0s 509us/sample - loss: 0.6477 - accuracy: 0.9167 - val_loss: 0.6463 - val_accuracy: 0.9167\n",
      "Epoch 36/100\n",
      "21/21 [==============================] - 0s 511us/sample - loss: 0.6463 - accuracy: 0.9167 - val_loss: 0.6448 - val_accuracy: 0.9167\n",
      "Epoch 37/100\n",
      "21/21 [==============================] - 0s 414us/sample - loss: 0.6448 - accuracy: 0.9167 - val_loss: 0.6433 - val_accuracy: 0.9167\n",
      "Epoch 38/100\n",
      "21/21 [==============================] - 0s 406us/sample - loss: 0.6433 - accuracy: 0.9167 - val_loss: 0.6418 - val_accuracy: 0.9167\n",
      "Epoch 39/100\n",
      "21/21 [==============================] - 0s 405us/sample - loss: 0.6418 - accuracy: 0.9167 - val_loss: 0.6401 - val_accuracy: 0.9167\n",
      "Epoch 40/100\n",
      "21/21 [==============================] - 0s 426us/sample - loss: 0.6401 - accuracy: 0.9167 - val_loss: 0.6383 - val_accuracy: 0.9167\n",
      "Epoch 41/100\n",
      "21/21 [==============================] - 0s 402us/sample - loss: 0.6383 - accuracy: 0.9167 - val_loss: 0.6365 - val_accuracy: 0.9167\n",
      "Epoch 42/100\n",
      "21/21 [==============================] - 0s 398us/sample - loss: 0.6365 - accuracy: 0.9167 - val_loss: 0.6347 - val_accuracy: 0.9167\n",
      "Epoch 43/100\n",
      "21/21 [==============================] - 0s 401us/sample - loss: 0.6347 - accuracy: 0.9167 - val_loss: 0.6328 - val_accuracy: 0.9167\n",
      "Epoch 44/100\n",
      "21/21 [==============================] - 0s 396us/sample - loss: 0.6328 - accuracy: 0.9167 - val_loss: 0.6308 - val_accuracy: 0.9167\n",
      "Epoch 45/100\n",
      "21/21 [==============================] - 0s 393us/sample - loss: 0.6308 - accuracy: 0.9167 - val_loss: 0.6289 - val_accuracy: 0.9167\n",
      "Epoch 46/100\n",
      "21/21 [==============================] - 0s 400us/sample - loss: 0.6289 - accuracy: 0.9167 - val_loss: 0.6269 - val_accuracy: 0.9167\n",
      "Epoch 47/100\n",
      "21/21 [==============================] - 0s 494us/sample - loss: 0.6269 - accuracy: 0.9167 - val_loss: 0.6249 - val_accuracy: 0.9167\n",
      "Epoch 48/100\n",
      "21/21 [==============================] - 0s 498us/sample - loss: 0.6249 - accuracy: 0.9167 - val_loss: 0.6229 - val_accuracy: 0.9167\n",
      "Epoch 49/100\n",
      "21/21 [==============================] - 0s 494us/sample - loss: 0.6229 - accuracy: 0.9167 - val_loss: 0.6209 - val_accuracy: 0.9167\n",
      "Epoch 50/100\n",
      "21/21 [==============================] - 0s 510us/sample - loss: 0.6209 - accuracy: 0.9167 - val_loss: 0.6189 - val_accuracy: 0.9167\n",
      "Epoch 51/100\n",
      "21/21 [==============================] - 0s 523us/sample - loss: 0.6189 - accuracy: 0.9167 - val_loss: 0.6168 - val_accuracy: 0.9167\n",
      "Epoch 52/100\n",
      "21/21 [==============================] - 0s 498us/sample - loss: 0.6168 - accuracy: 0.9167 - val_loss: 0.6148 - val_accuracy: 0.9167\n",
      "Epoch 53/100\n",
      "21/21 [==============================] - 0s 508us/sample - loss: 0.6148 - accuracy: 0.9167 - val_loss: 0.6127 - val_accuracy: 0.9167\n",
      "Epoch 54/100\n",
      "21/21 [==============================] - 0s 402us/sample - loss: 0.6127 - accuracy: 0.9167 - val_loss: 0.6106 - val_accuracy: 0.9167\n",
      "Epoch 55/100\n",
      "21/21 [==============================] - 0s 400us/sample - loss: 0.6106 - accuracy: 0.9167 - val_loss: 0.6085 - val_accuracy: 0.9167\n",
      "Epoch 56/100\n",
      "21/21 [==============================] - 0s 406us/sample - loss: 0.6085 - accuracy: 0.9167 - val_loss: 0.6064 - val_accuracy: 0.9167\n",
      "Epoch 57/100\n",
      "21/21 [==============================] - 0s 405us/sample - loss: 0.6064 - accuracy: 0.9167 - val_loss: 0.6043 - val_accuracy: 0.9167\n",
      "Epoch 58/100\n",
      "21/21 [==============================] - 0s 496us/sample - loss: 0.6043 - accuracy: 0.9167 - val_loss: 0.6022 - val_accuracy: 0.9167\n",
      "Epoch 59/100\n",
      "21/21 [==============================] - 0s 400us/sample - loss: 0.6022 - accuracy: 0.9167 - val_loss: 0.6000 - val_accuracy: 0.9167\n",
      "Epoch 60/100\n",
      "21/21 [==============================] - 0s 407us/sample - loss: 0.6000 - accuracy: 0.9167 - val_loss: 0.5979 - val_accuracy: 0.9167\n",
      "Epoch 61/100\n",
      "21/21 [==============================] - 0s 502us/sample - loss: 0.5979 - accuracy: 0.9167 - val_loss: 0.5957 - val_accuracy: 0.9167\n",
      "Epoch 62/100\n",
      "21/21 [==============================] - 0s 399us/sample - loss: 0.5957 - accuracy: 0.9167 - val_loss: 0.5936 - val_accuracy: 0.9167\n",
      "Epoch 63/100\n",
      "21/21 [==============================] - 0s 517us/sample - loss: 0.5936 - accuracy: 0.9167 - val_loss: 0.5914 - val_accuracy: 0.9167\n",
      "Epoch 64/100\n",
      "21/21 [==============================] - 0s 417us/sample - loss: 0.5914 - accuracy: 0.9167 - val_loss: 0.5892 - val_accuracy: 0.9167\n",
      "Epoch 65/100\n",
      "21/21 [==============================] - 0s 417us/sample - loss: 0.5892 - accuracy: 0.9167 - val_loss: 0.5871 - val_accuracy: 0.9167\n",
      "Epoch 66/100\n",
      "21/21 [==============================] - 0s 397us/sample - loss: 0.5871 - accuracy: 0.9167 - val_loss: 0.5849 - val_accuracy: 0.9167\n",
      "Epoch 67/100\n",
      "21/21 [==============================] - 0s 409us/sample - loss: 0.5849 - accuracy: 0.9167 - val_loss: 0.5827 - val_accuracy: 0.9167\n",
      "Epoch 68/100\n",
      "21/21 [==============================] - 0s 402us/sample - loss: 0.5827 - accuracy: 0.9167 - val_loss: 0.5805 - val_accuracy: 0.9167\n",
      "Epoch 69/100\n",
      "21/21 [==============================] - 0s 406us/sample - loss: 0.5805 - accuracy: 0.9167 - val_loss: 0.5783 - val_accuracy: 0.9167\n",
      "Epoch 70/100\n",
      "21/21 [==============================] - 0s 410us/sample - loss: 0.5783 - accuracy: 0.9167 - val_loss: 0.5761 - val_accuracy: 0.9167\n",
      "Epoch 71/100\n",
      "21/21 [==============================] - 0s 409us/sample - loss: 0.5761 - accuracy: 0.9167 - val_loss: 0.5739 - val_accuracy: 0.9167\n",
      "Epoch 72/100\n",
      "21/21 [==============================] - 0s 396us/sample - loss: 0.5739 - accuracy: 0.9167 - val_loss: 0.5717 - val_accuracy: 0.9167\n",
      "Epoch 73/100\n",
      "21/21 [==============================] - 0s 394us/sample - loss: 0.5717 - accuracy: 0.9167 - val_loss: 0.5694 - val_accuracy: 0.9167\n",
      "Epoch 74/100\n",
      "21/21 [==============================] - 0s 400us/sample - loss: 0.5694 - accuracy: 0.9167 - val_loss: 0.5672 - val_accuracy: 0.9167\n",
      "Epoch 75/100\n",
      "21/21 [==============================] - 0s 393us/sample - loss: 0.5672 - accuracy: 0.9167 - val_loss: 0.5650 - val_accuracy: 0.9167\n",
      "Epoch 76/100\n",
      "21/21 [==============================] - 0s 498us/sample - loss: 0.5650 - accuracy: 0.9167 - val_loss: 0.5627 - val_accuracy: 0.9167\n",
      "Epoch 77/100\n",
      "21/21 [==============================] - 0s 404us/sample - loss: 0.5627 - accuracy: 0.9167 - val_loss: 0.5605 - val_accuracy: 0.9167\n",
      "Epoch 78/100\n",
      "21/21 [==============================] - 0s 514us/sample - loss: 0.5605 - accuracy: 0.9167 - val_loss: 0.5583 - val_accuracy: 0.9167\n",
      "Epoch 79/100\n",
      "21/21 [==============================] - 0s 507us/sample - loss: 0.5583 - accuracy: 0.9167 - val_loss: 0.5560 - val_accuracy: 0.9167\n",
      "Epoch 80/100\n",
      "21/21 [==============================] - 0s 530us/sample - loss: 0.5560 - accuracy: 0.9167 - val_loss: 0.5538 - val_accuracy: 0.9167\n",
      "Epoch 81/100\n",
      "21/21 [==============================] - 0s 530us/sample - loss: 0.5538 - accuracy: 0.9167 - val_loss: 0.5515 - val_accuracy: 0.9167\n",
      "Epoch 82/100\n",
      "21/21 [==============================] - 0s 544us/sample - loss: 0.5515 - accuracy: 0.9167 - val_loss: 0.5492 - val_accuracy: 0.9167\n",
      "Epoch 83/100\n",
      "21/21 [==============================] - 0s 533us/sample - loss: 0.5492 - accuracy: 0.9167 - val_loss: 0.5470 - val_accuracy: 0.9167\n",
      "Epoch 84/100\n",
      "21/21 [==============================] - 0s 496us/sample - loss: 0.5470 - accuracy: 0.9167 - val_loss: 0.5447 - val_accuracy: 0.9167\n",
      "Epoch 85/100\n",
      "21/21 [==============================] - 0s 424us/sample - loss: 0.5447 - accuracy: 0.9167 - val_loss: 0.5424 - val_accuracy: 0.9167\n",
      "Epoch 86/100\n",
      "21/21 [==============================] - 0s 545us/sample - loss: 0.5424 - accuracy: 0.9167 - val_loss: 0.5402 - val_accuracy: 0.9167\n",
      "Epoch 87/100\n",
      "21/21 [==============================] - 0s 454us/sample - loss: 0.5402 - accuracy: 0.9167 - val_loss: 0.5379 - val_accuracy: 0.9167\n",
      "Epoch 88/100\n",
      "21/21 [==============================] - 0s 399us/sample - loss: 0.5379 - accuracy: 0.9167 - val_loss: 0.5356 - val_accuracy: 0.9167\n",
      "Epoch 89/100\n",
      "21/21 [==============================] - 0s 502us/sample - loss: 0.5356 - accuracy: 0.9167 - val_loss: 0.5334 - val_accuracy: 0.9167\n",
      "Epoch 90/100\n",
      "21/21 [==============================] - 0s 486us/sample - loss: 0.5334 - accuracy: 0.9167 - val_loss: 0.5311 - val_accuracy: 0.9167\n",
      "Epoch 91/100\n",
      "21/21 [==============================] - 0s 535us/sample - loss: 0.5311 - accuracy: 0.9167 - val_loss: 0.5288 - val_accuracy: 0.9167\n",
      "Epoch 92/100\n",
      "21/21 [==============================] - 0s 530us/sample - loss: 0.5288 - accuracy: 0.9167 - val_loss: 0.5265 - val_accuracy: 0.9167\n",
      "Epoch 93/100\n",
      "21/21 [==============================] - 0s 496us/sample - loss: 0.5265 - accuracy: 0.9167 - val_loss: 0.5242 - val_accuracy: 0.9167\n",
      "Epoch 94/100\n",
      "21/21 [==============================] - 0s 501us/sample - loss: 0.5242 - accuracy: 0.9167 - val_loss: 0.5220 - val_accuracy: 0.9167\n",
      "Epoch 95/100\n",
      "21/21 [==============================] - 0s 495us/sample - loss: 0.5220 - accuracy: 0.9167 - val_loss: 0.5197 - val_accuracy: 0.9167\n",
      "Epoch 96/100\n",
      "21/21 [==============================] - 0s 516us/sample - loss: 0.5197 - accuracy: 0.9167 - val_loss: 0.5174 - val_accuracy: 0.9167\n",
      "Epoch 97/100\n",
      "21/21 [==============================] - 0s 512us/sample - loss: 0.5174 - accuracy: 0.9167 - val_loss: 0.5151 - val_accuracy: 0.9167\n",
      "Epoch 98/100\n",
      "21/21 [==============================] - 0s 513us/sample - loss: 0.5151 - accuracy: 0.9167 - val_loss: 0.5128 - val_accuracy: 0.9167\n",
      "Epoch 99/100\n",
      "21/21 [==============================] - 0s 500us/sample - loss: 0.5128 - accuracy: 0.9167 - val_loss: 0.5106 - val_accuracy: 0.9167\n",
      "Epoch 100/100\n",
      "21/21 [==============================] - 0s 501us/sample - loss: 0.5106 - accuracy: 0.9167 - val_loss: 0.5083 - val_accuracy: 0.9167\n"
     ]
    }
   ],
   "source": [
    "model.compile(optimizer='adam',\n",
    "              loss='binary_crossentropy',\n",
    "              metrics=['accuracy'])\n",
    "history = model.fit(\n",
    "    inputs,\n",
    "    outputs,\n",
    "    epochs=100,\n",
    "    batch_size=512,\n",
    "    validation_split=0.4)"
   ]
  },
  {
   "cell_type": "code",
   "execution_count": 15,
   "metadata": {},
   "outputs": [
    {
     "name": "stdout",
     "output_type": "stream",
     "text": [
      "Executing op ReadVariableOp in device /job:localhost/replica:0/task:0/device:CPU:0\n"
     ]
    }
   ],
   "source": [
    "e = model.layers[0]\n",
    "weights = e.get_weights()[0]\n",
    "lookup = list(map(lambda s: {'name':s[0],'x':s[1][0],'y':s[1][1]}, zip(allUniqueWords,weights)))"
   ]
  },
  {
   "cell_type": "code",
   "execution_count": 20,
   "metadata": {},
   "outputs": [
    {
     "data": {
      "text/plain": [
       "<matplotlib.collections.PathCollection at 0x7fc6348aecc0>"
      ]
     },
     "execution_count": 20,
     "metadata": {},
     "output_type": "execute_result"
    },
    {
     "data": {
      "image/png": "[encoded data removed]",
      "text/plain": [
       "<Figure size 720x720 with 1 Axes>"
      ]
     },
     "metadata": {
      "needs_background": "light"
     },
     "output_type": "display_data"
    }
   ],
   "source": [
    "import matplotlib.pyplot as plt\n",
    "\n",
    "fig, ax = plt.subplots()\n",
    "x_min = 0\n",
    "y_min = 0\n",
    "x_max = 0\n",
    "y_max = 0\n",
    "x_data = []\n",
    "y_data = []\n",
    "for e in lookup:\n",
    "    x_data.append(e['x'])\n",
    "    y_data.append(e['y'])\n",
    "    x_min = min(x_min,e['x'])\n",
    "    y_min = min(y_min,e['y'])\n",
    "    x_max = max(x_max,e['x'])\n",
    "    y_max = max(y_max,e['y'])\n",
    "    ax.annotate(e['name'],(e['x'],e['y']))\n",
    "x_pad = abs(x_max-x_min)*.1\n",
    "y_pad = abs(y_max-y_min)*.1\n",
    "    \n",
    "plt.xlim(x_min-x_pad,x_max+x_pad)\n",
    "plt.ylim(y_min-y_pad,y_max+y_pad)\n",
    "plt.rcParams[\"figure.figsize\"] = (10,10)\n",
    "plt.scatter(x_data,y_data)\n"
   ]
  },
  {
   "cell_type": "code",
   "execution_count": null,
   "metadata": {},
   "outputs": [],
   "source": []
  }
 ],
 "metadata": {
  "kernelspec": {
   "display_name": "Python 3",
   "language": "python",
   "name": "python3"
  },
  "language_info": {
   "codemirror_mode": {
    "name": "ipython",
    "version": 3
   },
   "file_extension": ".py",
   "mimetype": "text/x-python",
   "name": "python",
   "nbconvert_exporter": "python",
   "pygments_lexer": "ipython3",
   "version": "3.5.3"
  }
 },
 "nbformat": 4,
 "nbformat_minor": 2
}
